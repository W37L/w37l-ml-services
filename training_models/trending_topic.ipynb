{
 "cells": [
  {
   "cell_type": "code",
   "execution_count": 1,
   "metadata": {},
   "outputs": [],
   "source": [
    "import pandas as pd\n",
    "import joblib\n",
    "import re\n",
    "from bs4 import BeautifulSoup\n",
    "from nltk.corpus import stopwords\n",
    "from nltk.stem import SnowballStemmer\n",
    "from sklearn.feature_extraction.text import CountVectorizer\n",
    "from sklearn.decomposition import LatentDirichletAllocation\n"
   ]
  },
  {
   "cell_type": "code",
   "execution_count": 39,
   "metadata": {},
   "outputs": [
    {
     "name": "stdout",
     "output_type": "stream",
     "text": [
      "                                                Text  Likes  Retweets\n",
      "0       The weather forecast predicts rain tomorrow.     84        57\n",
      "1   Weather patterns can be unpredictable in spring.     19        92\n",
      "2  The architecture of ancient Rome still influen...     63         8\n",
      "3  Modern architecture often emphasizes sleek lin...     41        69\n",
      "4  Coding skills are essential in today's digital...     95        36\n",
      "5  Many students are learning coding languages to...     68        80\n",
      "6  The weather in coastal regions can be quite wi...     27        43\n",
      "7  The architecture of Gothic cathedrals is awe-i...     51        22\n",
      "8  Learning about coding can open up a world of o...     11        76\n",
      "9  Weather conditions are ideal for a picnic in t...      3        95\n",
      "<class 'pandas.core.frame.DataFrame'>\n",
      "RangeIndex: 100 entries, 0 to 99\n",
      "Data columns (total 3 columns):\n",
      " #   Column    Non-Null Count  Dtype \n",
      "---  ------    --------------  ----- \n",
      " 0   Text      100 non-null    object\n",
      " 1   Likes     100 non-null    int64 \n",
      " 2   Retweets  100 non-null    int64 \n",
      "dtypes: int64(2), object(1)\n",
      "memory usage: 2.5+ KB\n"
     ]
    }
   ],
   "source": [
    "# Reading the data\n",
    "df = pd.read_excel('test1.xlsx')\n",
    "print(df.head(10))\n",
    "df.info()"
   ]
  },
  {
   "cell_type": "code",
   "execution_count": 40,
   "metadata": {},
   "outputs": [],
   "source": [
    "# Preprocessing the text\n",
    "def preprocess_text(text):\n",
    "    text = text.lower()\n",
    "    text = BeautifulSoup(text, 'html.parser').get_text()\n",
    "    text = re.sub(r'http\\S+', '', text)\n",
    "    text = re.sub(r'[^a-zA-Z\\s]', '', text)\n",
    "\n",
    "    stop_words = stopwords.words('english')\n",
    "    review_without_stop_words = ' '.join([word for word in text.split() if word not in stop_words])\n",
    "    \n",
    "    stemmer = SnowballStemmer(\"english\")\n",
    "    review_stemmed = ' '.join([stemmer.stem(word) for word in review_without_stop_words.split()])\n",
    "    return review_stemmed"
   ]
  },
  {
   "cell_type": "code",
   "execution_count": 41,
   "metadata": {},
   "outputs": [
    {
     "data": {
      "text/plain": [
       "0               weather forecast predict rain tomorrow\n",
       "1                     weather pattern unpredict spring\n",
       "2    architectur ancient rome still influenc modern...\n",
       "3    modern architectur often emphas sleek line min...\n",
       "4               code skill essenti today digit economi\n",
       "5    mani student learn code languag prepar futur c...\n",
       "6                    weather coastal region quit windi\n",
       "7                 architectur gothic cathedr aweinspir\n",
       "8                       learn code open world opportun\n",
       "9                     weather condit ideal picnic park\n",
       "Name: cleaned_text, dtype: object"
      ]
     },
     "execution_count": 41,
     "metadata": {},
     "output_type": "execute_result"
    }
   ],
   "source": [
    "# Applying the preprocessing function to the text column\n",
    "df['cleaned_text'] = df['Text'].apply(preprocess_text)\n",
    "df['cleaned_text'].head(10)"
   ]
  },
  {
   "cell_type": "code",
   "execution_count": 42,
   "metadata": {},
   "outputs": [],
   "source": [
    "# Creating the Document Term Matrix\n",
    "vectorizer = CountVectorizer(max_df=0.95, min_df=2, max_features=1000,stop_words=\"english\")\n",
    "tfidf_matrix = vectorizer.fit_transform(df['cleaned_text'])\n",
    "tf_feature_names = vectorizer.get_feature_names_out()\n"
   ]
  },
  {
   "cell_type": "code",
   "execution_count": 43,
   "metadata": {},
   "outputs": [],
   "source": [
    "# Applying LDA\n",
    "no_topics = 6 #number of topics to consider \n",
    "no_top_words = 5 #number of topics to display for each topic\n",
    "lda = LatentDirichletAllocation(n_components=no_topics,max_iter=5,learning_method='online',learning_offset=50,random_state=0).fit(tfidf_matrix)\n"
   ]
  },
  {
   "cell_type": "code",
   "execution_count": 44,
   "metadata": {},
   "outputs": [],
   "source": [
    "# Printing the topics\n",
    "def display_topics(model, feature_names, no_top_words):\n",
    "    topics = {}\n",
    "    for topic_idx, topic in enumerate(model.components_):\n",
    "        topics[f\"Topic {topic_idx}\"] = \" \".join([feature_names[i] for i in topic.argsort()[:-no_top_words -1:-1]])\n",
    "    return topics"
   ]
  },
  {
   "cell_type": "code",
   "execution_count": 45,
   "metadata": {},
   "outputs": [
    {
     "data": {
      "text/plain": [
       "{'Topic 0': 'architectur gothic known character cathedr',\n",
       " 'Topic 1': 'code learn opportun boot camp',\n",
       " 'Topic 2': 'architectur pattern weather ancient influenc',\n",
       " 'Topic 3': 'weather condit agricultur like code',\n",
       " 'Topic 4': 'code skill problemsolv valuabl requir',\n",
       " 'Topic 5': 'weather like forecast boot camp'}"
      ]
     },
     "execution_count": 45,
     "metadata": {},
     "output_type": "execute_result"
    }
   ],
   "source": [
    "display_topics(lda, tf_feature_names, no_top_words)"
   ]
  },
  {
   "cell_type": "code",
   "execution_count": 59,
   "metadata": {},
   "outputs": [
    {
     "data": {
      "text/plain": [
       "['../src/mlservice/service/utils/lda_trend_model.joblib']"
      ]
     },
     "execution_count": 59,
     "metadata": {},
     "output_type": "execute_result"
    }
   ],
   "source": [
    "model_folder = '../src/mlservice/service/utils'\n",
    "no_topics = 5\n",
    "lda = LatentDirichletAllocation(n_components=no_topics,max_iter=5,learning_method='online',learning_offset=50,random_state=0)\n",
    "joblib.dump(lda, f'{model_folder}/lda_trend_model.joblib')"
   ]
  },
  {
   "cell_type": "code",
   "execution_count": 47,
   "metadata": {},
   "outputs": [],
   "source": [
    "#Hast tag creator\n",
    "def get_hashtag(model, feature_names, no_top_words):\n",
    "  hashtag = \"\"\n",
    "  for topic_idx,topic in enumerate(model.components_):\n",
    "    top_words_indices = topic.argsort()[:-no_top_words - 1:-1]\n",
    "    top_words = [feature_names[i].title() for i in top_words_indices]\n",
    "    hashtag += f\"#{''.join(top_words[:no_top_words])}\"\n",
    "\n",
    "  return hashtag.strip()\n",
    "\n",
    "#Hash tag generator\n",
    "def hash_tag_text_genetator(text):\n",
    "  text = preprocess_text(text)\n",
    "  vectorizer = CountVectorizer(max_features=1000,stop_words=\"english\")\n",
    "  matrix = vectorizer.fit_transform([text])\n",
    "  tf_feature_names = vectorizer.get_feature_names_out()\n",
    "  lda = LatentDirichletAllocation(n_components=1,max_iter=5,learning_method='online',learning_offset=50,random_state=0)\n",
    "  lda.fit(matrix)\n",
    "  return get_hashtag(lda, tf_feature_names, 3)"
   ]
  },
  {
   "cell_type": "code",
   "execution_count": 48,
   "metadata": {},
   "outputs": [
    {
     "name": "stdout",
     "output_type": "stream",
     "text": [
      "#AnalysiTechniquLike\n",
      "#MachinLearnAlgorithm\n",
      "#MediaSocialMental\n",
      "#RetailTraditIndustri\n",
      "#AiArticlHealthcar\n"
     ]
    }
   ],
   "source": [
    "#Test the hash tag generator\n",
    "text = [\"This document explores various techniques for analyzing textual data, including sentiment analysis, topic modeling, and named entity recognition. It discusses the applications of these techniques in different fields like social media analysis, customer feedback processing, and information retrieval\",\n",
    "\"This article investigates the use of machine learning algorithms in predicting stock market trends. It explores different algorithms like linear regression, support vector machines, and deep learning models for stock price forecasting. The article also discusses the challenges and limitations of using machine learning for financial prediction.\",\n",
    "\"This research paper examines the potential effects of social media usage on mental health. It analyzes the correlation between social media engagement and symptoms of anxiety, depression, and loneliness. The paper suggests strategies for promoting responsible social media use and maintaining mental well-being.\",\n",
    "\"This report discusses the booming e-commerce industry and its impact on traditional brick-and-mortar retail stores. It analyzes the factors contributing to the growth of online shopping, such as convenience, competitive pricing, and wider product selection. The report also explores how traditional retailers can adapt to this changing landscape.\",\n",
    "\"This article delves into the potential applications of artificial intelligence (AI) in the healthcare sector. It discusses how AI can be used for tasks like medical diagnosis, drug discovery, and personalized medicine. The article also highlights the ethical considerations related to AI implementation in healthcare.\"]\n",
    "\n",
    "for t in text:\n",
    "  print(hash_tag_text_genetator(t))"
   ]
  },
  {
   "cell_type": "code",
   "execution_count": 50,
   "metadata": {},
   "outputs": [
    {
     "data": {
      "text/plain": [
       "['../src/mlservice/service/ml_models/lda_model.joblib']"
      ]
     },
     "execution_count": 50,
     "metadata": {},
     "output_type": "execute_result"
    }
   ],
   "source": [
    "# Saving the model into joblib file\n",
    "no_topics = 1\n",
    "lda = LatentDirichletAllocation(n_components=no_topics,max_iter=5,learning_method='online',learning_offset=50,random_state=0)\n",
    "joblib.dump(lda, f'{model_folder}/lda_model.joblib')"
   ]
  },
  {
   "cell_type": "code",
   "execution_count": 60,
   "metadata": {},
   "outputs": [],
   "source": [
    "#Hash tag generator with joblib files\n",
    "def hash_tag_text_genetator(text):\n",
    "    text = preprocess_text(text)\n",
    "    vectorizer = joblib.load(f'{model_folder}/count_vectorizer.joblib')\n",
    "    matrix = vectorizer.fit_transform([text])\n",
    "    tf_feature_names = vectorizer.get_feature_names_out()\n",
    "    lda = joblib.load(f'{model_folder}/lda_model.joblib')\n",
    "    lda.fit(matrix)\n",
    "    return get_hashtag(lda, tf_feature_names, 3)\n"
   ]
  },
  {
   "cell_type": "code",
   "execution_count": 61,
   "metadata": {},
   "outputs": [
    {
     "name": "stdout",
     "output_type": "stream",
     "text": [
      "#AnalysiLikeTechniqu\n",
      "#LearnMachinArticl\n",
      "#MediaSocialMental\n",
      "#ReportRetailTradit\n",
      "#AiArticlImplement\n"
     ]
    }
   ],
   "source": [
    "#Test the hash tag generator\n",
    "text = [\"This document explores various techniques for analyzing textual data, including sentiment analysis, topic modeling, and named entity recognition. It discusses the applications of these techniques in different fields like social media analysis, customer feedback processing, and information retrieval\",\n",
    "\"This article investigates the use of machine learning algorithms in predicting stock market trends. It explores different algorithms like linear regression, support vector machines, and deep learning models for stock price forecasting. The article also discusses the challenges and limitations of using machine learning for financial prediction.\",\n",
    "\"This research paper examines the potential effects of social media usage on mental health. It analyzes the correlation between social media engagement and symptoms of anxiety, depression, and loneliness. The paper suggests strategies for promoting responsible social media use and maintaining mental well-being.\",\n",
    "\"This report discusses the booming e-commerce industry and its impact on traditional brick-and-mortar retail stores. It analyzes the factors contributing to the growth of online shopping, such as convenience, competitive pricing, and wider product selection. The report also explores how traditional retailers can adapt to this changing landscape.\",\n",
    "\"This article delves into the potential applications of artificial intelligence (AI) in the healthcare sector. It discusses how AI can be used for tasks like medical diagnosis, drug discovery, and personalized medicine. The article also highlights the ethical considerations related to AI implementation in healthcare.\"]\n",
    "\n",
    "for t in text:\n",
    "  print(hash_tag_text_genetator(t))"
   ]
  }
 ],
 "metadata": {
  "kernelspec": {
   "display_name": "base",
   "language": "python",
   "name": "python3"
  },
  "language_info": {
   "codemirror_mode": {
    "name": "ipython",
    "version": 3
   },
   "file_extension": ".py",
   "mimetype": "text/x-python",
   "name": "python",
   "nbconvert_exporter": "python",
   "pygments_lexer": "ipython3",
   "version": "3.11.9"
  },
  "orig_nbformat": 4
 },
 "nbformat": 4,
 "nbformat_minor": 2
}
