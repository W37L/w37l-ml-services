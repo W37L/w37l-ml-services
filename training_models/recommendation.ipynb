{
 "cells": [
  {
   "cell_type": "code",
   "execution_count": 7,
   "metadata": {},
   "outputs": [],
   "source": [
    "\n",
    "import pandas as pd\n",
    "from sklearn.metrics.pairwise import cosine_similarity\n",
    "from sklearn.preprocessing import MultiLabelBinarizer\n",
    "from sklearn.feature_extraction.text import TfidfVectorizer\n",
    "from model import UserRelations\n",
    "import joblib"
   ]
  },
  {
   "cell_type": "code",
   "execution_count": 2,
   "metadata": {},
   "outputs": [],
   "source": [
    "# Create a dataframe with the user relations\n",
    "users = [\n",
    "    UserRelations(userid='u1', blockedUsers=[], following=['u2', 'u3'], followers=['u2', 'u4'], higthlightedTweetIds=[], likedTweetIds=[], mutedUsers=[], reportedUsers=[], reTweetedTweetIds=[]),\n",
    "    UserRelations(userid='u2', blockedUsers=[], following=['u1', 'u4', 'u5'], followers=['u1', 'u3', 'u6'], higthlightedTweetIds=[], likedTweetIds=[], mutedUsers=[], reportedUsers=[], reTweetedTweetIds=[]),\n",
    "    UserRelations(userid='u3', blockedUsers=[], following=['u4', 'u6'], followers=['u5'], higthlightedTweetIds=[], likedTweetIds=[], mutedUsers=[], reportedUsers=[], reTweetedTweetIds=[]),\n",
    "    UserRelations(userid='u4', blockedUsers=[], following=['u2', 'u5', 'u7'], followers=['u2', 'u5', 'u1'], higthlightedTweetIds=[], likedTweetIds=[], mutedUsers=[], reportedUsers=[], reTweetedTweetIds=[]),\n",
    "    UserRelations(userid='u5', blockedUsers=[], following=['u2', 'u4', 'u8'], followers=['u2','u4', 'u9'], higthlightedTweetIds=[], likedTweetIds=[], mutedUsers=[], reportedUsers=[], reTweetedTweetIds=[]),\n",
    "    UserRelations(userid='u6', blockedUsers=[], following=['u7', 'u8'], followers=['u2', 'u3'], higthlightedTweetIds=[], likedTweetIds=[], mutedUsers=[], reportedUsers=[], reTweetedTweetIds=[]),\n",
    "    UserRelations(userid='u7', blockedUsers=[], following=['u2', 'u9'], followers=['u6', 'u4'], higthlightedTweetIds=[], likedTweetIds=[], mutedUsers=[], reportedUsers=[], reTweetedTweetIds=[]),\n",
    "    UserRelations(userid='u8', blockedUsers=[], following=['u5', 'u10'], followers=['u6', 'u7'], higthlightedTweetIds=[], likedTweetIds=[], mutedUsers=[], reportedUsers=[], reTweetedTweetIds=[]),\n",
    "    UserRelations(userid='u9', blockedUsers=[], following=['u10', 'u11'], followers=['u5', 'u7'], higthlightedTweetIds=[], likedTweetIds=[], mutedUsers=[], reportedUsers=[], reTweetedTweetIds=[]),\n",
    "    UserRelations(userid='u10', blockedUsers=[], following=['u8', 'u12'], followers=['u9', 'u11'], higthlightedTweetIds=[], likedTweetIds=[], mutedUsers=[], reportedUsers=[], reTweetedTweetIds=[]),\n",
    "    UserRelations(userid='u11', blockedUsers=[], following=['u10', 'u12'], followers=['u9', 'u10'], higthlightedTweetIds=[], likedTweetIds=[], mutedUsers=[], reportedUsers=[], reTweetedTweetIds=[]),\n",
    "    UserRelations(userid='u12', blockedUsers=[], following=['u1', 'u2' ,'u5' ], followers=['u10', 'u11'], higthlightedTweetIds=[], likedTweetIds=[], mutedUsers=[], reportedUsers=[], reTweetedTweetIds=[]),\n",
    "    UserRelations(userid='u13', blockedUsers=[], following=['u2', 'u14'], followers=['u15', 'u12'], higthlightedTweetIds=[], likedTweetIds=[], mutedUsers=[], reportedUsers=[], reTweetedTweetIds=[]),\n",
    "    UserRelations(userid='u14', blockedUsers=[], following=['u13', 'u15'], followers=['u13', 'u16'], higthlightedTweetIds=[], likedTweetIds=[], mutedUsers=[], reportedUsers=[], reTweetedTweetIds=[]),\n",
    "    UserRelations(userid='u15', blockedUsers=[], following=['u14', 'u16'], followers=['u13', 'u14'], higthlightedTweetIds=[], likedTweetIds=[], mutedUsers=[], reportedUsers=[], reTweetedTweetIds=[]),\n",
    "    UserRelations(userid='u16', blockedUsers=[], following=['u15', 'u17'], followers=['u14', 'u15'], higthlightedTweetIds=[], likedTweetIds=[], mutedUsers=[], reportedUsers=[], reTweetedTweetIds=[]),\n",
    "    UserRelations(userid='u17', blockedUsers=[], following=['u16', 'u18'], followers=['u16', 'u19'], higthlightedTweetIds=[], likedTweetIds=[], mutedUsers=[], reportedUsers=[], reTweetedTweetIds=[]),\n",
    "    UserRelations(userid='u18', blockedUsers=[], following=['u17', 'u19'], followers=['u17', 'u20'], higthlightedTweetIds=[], likedTweetIds=[], mutedUsers=[], reportedUsers=[], reTweetedTweetIds=[]),\n",
    "    UserRelations(userid='u19', blockedUsers=[], following=['u18', 'u20'], followers=['u18', 'u17'], higthlightedTweetIds=[], likedTweetIds=[], mutedUsers=[], reportedUsers=[], reTweetedTweetIds=[]),\n",
    "    UserRelations(userid='u20', blockedUsers=[], following=['u19', 'u1'], followers=['u18', 'u19'], higthlightedTweetIds=[], likedTweetIds=[], mutedUsers=[], reportedUsers=[], reTweetedTweetIds=[]),\n",
    "]"
   ]
  },
  {
   "cell_type": "code",
   "execution_count": 3,
   "metadata": {},
   "outputs": [
    {
     "name": "stdout",
     "output_type": "stream",
     "text": [
      "Recommended users for u1: ['u13', 'u7', 'u4', 'u5', 'u12', 'u19', 'u18', 'u17', 'u16', 'u15', 'u14', 'u11', 'u2', 'u10', 'u9', 'u8', 'u6', 'u3', 'u20']\n"
     ]
    }
   ],
   "source": [
    "# Convert user data to a DataFrame\n",
    "user_following = {user.userid: user.following for user in users}\n",
    "model = MultiLabelBinarizer()\n",
    "following_matrix = model.fit_transform(user_following.values())\n",
    "user_ids = list(user_following.keys())\n",
    "following_df = pd.DataFrame(following_matrix, index=user_ids, columns=model.classes_)\n",
    "\n",
    "# Calculate user similarity\n",
    "user_similarity = cosine_similarity(following_df)\n",
    "\n",
    "# Create a DataFrame for similarity\n",
    "similarity_df = pd.DataFrame(user_similarity, index=user_ids, columns=user_ids)\n",
    "\n",
    "# Function to get recommendations for a user\n",
    "def recommend_users(user_id, similarity_df, top_n=20):\n",
    "    if user_id not in similarity_df.index:\n",
    "        return []\n",
    "    # Sort users by similarity\n",
    "    similar_users = similarity_df[user_id].sort_values(ascending=False)\n",
    "    # Exclude the user itself\n",
    "    similar_users = similar_users.drop(user_id)\n",
    "    # Get top N similar users\n",
    "    recommendations = similar_users.head(top_n).index.tolist()\n",
    "    return recommendations\n",
    "\n",
    "# Example: Get recommendations for user 'u1'\n",
    "recommended_users = recommend_users('u1', similarity_df)\n",
    "print(f\"Recommended users for u1: {recommended_users}\")"
   ]
  },
  {
   "cell_type": "code",
   "execution_count": 8,
   "metadata": {},
   "outputs": [
    {
     "data": {
      "text/plain": [
       "['../src/mlservice/service/utils/multi_label_binarizer.joblib']"
      ]
     },
     "execution_count": 8,
     "metadata": {},
     "output_type": "execute_result"
    }
   ],
   "source": [
    "# Save the model into joblib file\n",
    "model = MultiLabelBinarizer()\n",
    "model_folder = '../src/mlservice/service/utils'\n",
    "joblib.dump(model, f\"{model_folder}/multi_label_binarizer.joblib\")"
   ]
  },
  {
   "cell_type": "code",
   "execution_count": 4,
   "metadata": {},
   "outputs": [],
   "source": [
    "# Data for user connections and posts\n",
    "user_connections = {\n",
    "    'u1': {'following': ['u2', 'u3'], 'followers': ['u2', 'u4']},\n",
    "    'u2': {'following': ['u1', 'u4', 'u5'], 'followers': ['u1', 'u3', 'u6']},\n",
    "    'u3': {'following': ['u4', 'u6'], 'followers': ['u5']},\n",
    "    'u4': {'following': ['u2', 'u5', 'u7'], 'followers': ['u2', 'u5', 'u1']},\n",
    "    'u5': {'following': ['u2', 'u4', 'u8'], 'followers': ['u2','u4', 'u9']},\n",
    "    'u6': {'following': ['u7', 'u8'], 'followers': ['u2', 'u3']},\n",
    "    'u7': {'following': ['u2', 'u9'], 'followers': ['u6', 'u4']},\n",
    "    'u8': {'following': ['u5', 'u10'], 'followers': ['u6', 'u7']},\n",
    "    'u9': {'following': ['u10', 'u11'], 'followers': ['u5', 'u7']},\n",
    "    'u10': {'following': ['u8', 'u12'], 'followers': ['u9', 'u11']},\n",
    "    'u11': {'following': ['u10', 'u12'], 'followers': ['u9', 'u10']},\n",
    "    'u12': {'following': ['u11', 'u13'], 'followers': ['u10', 'u11']},\n",
    "    'u13': {'following': ['u14'], 'followers': ['u15', 'u12']},\n",
    "    'u14': {'following': ['u13', 'u15'], 'followers': ['u13', 'u16']},\n",
    "    'u15': {'following': ['u14', 'u16'], 'followers': ['u13', 'u14']},\n",
    "    'u16': {'following': ['u15', 'u17'], 'followers': ['u14', 'u15']},\n",
    "    'u17': {'following': ['u16', 'u18'], 'followers': ['u16', 'u19']},\n",
    "    'u18': {'following': ['u17', 'u19'], 'followers': ['u17', 'u20']},\n",
    "    'u19': {'following': ['u18', 'u20'], 'followers': ['u18', 'u17']},\n",
    "    'u20': {'following': ['u19', 'u1'], 'followers': ['u18', 'u19']},\n",
    "}\n",
    "\n",
    "posts_data = [\n",
    "    {\"postId\": 'p1', \"content\": 'Started a new blog about sustainable fashion! Check it out! #sustainability #fashion '\n",
    "     , \"likes\": 10, \"retweets\": 5, \"userId\": 'u1'},\n",
    "    {\"postId\": 'p2', \"content\": 'Finally got around to repotting my plants. Feeling like a responsible adult now',\n",
    "      \"likes\": 20, \"retweets\": 10, \"userId\": 'u2'},\n",
    "    {\"postId\": 'p3', \"content\": 'Anyone else obsessed with this new cooking show?',\n",
    "      \"likes\": 30, \"retweets\": 15, \"userId\": 'u3'},\n",
    "    {\"postId\": 'p4', \"content\": 'ust learned a new magic trick! Going to amaze my friends at the next party.'\n",
    "     , \"likes\": 15, \"retweets\": 8, \"userId\": 'u1'},\n",
    "    {\"postId\": 'p5', \"content\": 'Is it too early to start thinking about Halloween costumes? ',\n",
    "      \"likes\": 25, \"retweets\": 12, \"userId\": 'u2'},\n",
    "    {\"postId\": 'p6', \"content\": 'Woah! Did you guys see that meteor shower last night? ',\n",
    "      \"likes\": 35, \"retweets\": 20, \"userId\": 'u3'},\n",
    "    {\"postId\": 'p7', \"content\": 'Feeling overwhelmed with work this week.',\n",
    "      \"likes\": 12, \"retweets\": 6, \"userId\": 'u4'},\n",
    "    {\"postId\": 'p8', \"content\": 'Just finished reading a thought-provoking article about the future of space exploration.',\n",
    "      \"likes\": 18, \"retweets\": 9, \"userId\": 'u4'},\n",
    "    {\"postId\": 'p9', \"content\": 'Going for a hike this morning! Wish me luck finding some cool wildlife.',\n",
    "      \"likes\": 22, \"retweets\": 11, \"userId\": 'u5'},\n",
    "    {\"postId\": 'p10', \"content\": 'Been working on a new piece of music lately. Cant wait to share it with you all! ',\n",
    "      \"likes\": 28, \"retweets\": 14, \"userId\": 'u5'},\n",
    "    {\"postId\": 'p11', \"content\": 'Feeling grateful for my amazing friends and family.',\n",
    "      \"likes\": 32, \"retweets\": 16, \"userId\": 'u6'},\n",
    "    {\"postId\": 'p12', \"content\": 'Whats your favorite board game? Always looking for new recommendations! ',\n",
    "      \"likes\": 38, \"retweets\": 18, \"userId\": 'u7'},\n",
    "    {\"postId\": 'p13', \"content\": 'Just booked a trip to Bali! Cant wait to explore the beaches and culture. ',\n",
    "      \"likes\": 45, \"retweets\": 22, \"userId\": 'u8'},\n",
    "    {\"postId\": 'p14', \"content\": 'Trying out a new vegan recipe tonight. Wish me luck!',\n",
    "      \"likes\": 14, \"retweets\": 7, \"userId\": 'u9'},\n",
    "    {\"postId\": 'p15', \"content\": 'Happy National Dog Day to all the furry friends out there!',\n",
    "      \"likes\": 21, \"retweets\": 10, \"userId\": 'u10'},\n",
    "    {\"postId\": 'p16', \"content\": 'Anyone else a huge fan of podcasts? What are you listening to lately',\n",
    "      \"likes\": 27, \"retweets\": 13, \"userId\": 'u11'},\n",
    "    {\"postId\": 'p17', \"content\": 'Just finished a 10k race! Feeling proud and accomplished',\n",
    "      \"likes\": 33, \"retweets\": 16, \"userId\": 'u12'},\n",
    "    {\"postId\": 'p18', \"content\": 'Sharing some photos from my recent visit to the art museum. So many inspiring pieces!',\n",
    "      \"likes\": 40, \"retweets\": 20, \"userId\": 'u13'},\n",
    "    {\"postId\": 'p19', \"content\": 'Celebrating a new job promotion! Feeling excited for the future',\n",
    "      \"likes\": 50, \"retweets\": 25, \"userId\": 'u14'},\n",
    "    {\"postId\": 'p20', \"content\": 'Hello everybody! Excited to join this platform and share my thoughts with you all. ',\n",
    "      \"likes\": 16, \"retweets\": 8, \"userId\": 'u15'},\n",
    "]"
   ]
  },
  {
   "cell_type": "code",
   "execution_count": 5,
   "metadata": {},
   "outputs": [
    {
     "name": "stdout",
     "output_type": "stream",
     "text": [
      "['p9', 'p3', 'p5', 'p8', 'p7', 'p6', 'p4', 'p2', 'p1']\n"
     ]
    }
   ],
   "source": [
    "\n",
    "# Define the function to generate post recommendations\n",
    "def get_post_recommendations(user_id, num_recommendations=10):\n",
    "    # Get following and followers of the user\n",
    "    following = user_connections.get(user_id, {}).get('following', [])\n",
    "    followers = user_connections.get(user_id, {}).get('followers', [])\n",
    "    \n",
    "    # Aggregate posts from following and followers\n",
    "    relevant_posts = []\n",
    "    for post in posts_data:\n",
    "        if post['userId'] in following or post['userId'] in followers:\n",
    "            relevant_posts.append(post['content'])\n",
    "\n",
    "    # Extract TF-IDF features from the post content\n",
    "    tfidf_vectorizer = TfidfVectorizer()\n",
    "    tfidf_matrix = tfidf_vectorizer.fit_transform(relevant_posts)\n",
    "\n",
    "    # Calculate similarity between posts and user interests\n",
    "    user_interests = tfidf_vectorizer.transform([posts_data[i]['content'] for i in range(len(posts_data)) if posts_data[i]['userId'] == user_id])\n",
    "    post_similarity = cosine_similarity(user_interests, tfidf_matrix)\n",
    "\n",
    "    # Get indices of top recommended posts\n",
    "    top_indices = post_similarity.argsort()[0][-num_recommendations:][::-1]\n",
    "\n",
    "    # Get post IDs corresponding to the top indices\n",
    "    recommended_post_ids = [posts_data[i]['postId'] for i in top_indices]\n",
    "\n",
    "    return recommended_post_ids\n",
    "user_u2_recommendations = get_post_recommendations('u2')\n",
    "print(user_u2_recommendations)"
   ]
  },
  {
   "cell_type": "code",
   "execution_count": 9,
   "metadata": {},
   "outputs": [
    {
     "data": {
      "text/plain": [
       "['../src/mlservice/service/utils/tfidf_vectorizer.joblib']"
      ]
     },
     "execution_count": 9,
     "metadata": {},
     "output_type": "execute_result"
    }
   ],
   "source": [
    "# Save the model into joblib file\n",
    "model = TfidfVectorizer()\n",
    "model_folder = '../src/mlservice/service/utils'\n",
    "joblib.dump(model, f\"{model_folder}/tfidf_vectorizer.joblib\")"
   ]
  },
  {
   "cell_type": "markdown",
   "metadata": {},
   "source": []
  }
 ],
 "metadata": {
  "kernelspec": {
   "display_name": "venv",
   "language": "python",
   "name": "python3"
  },
  "language_info": {
   "codemirror_mode": {
    "name": "ipython",
    "version": 3
   },
   "file_extension": ".py",
   "mimetype": "text/x-python",
   "name": "python",
   "nbconvert_exporter": "python",
   "pygments_lexer": "ipython3",
   "version": "3.11.9"
  },
  "orig_nbformat": 4
 },
 "nbformat": 4,
 "nbformat_minor": 2
}
